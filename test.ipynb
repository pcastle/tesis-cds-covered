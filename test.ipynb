{
 "cells": [
  {
   "cell_type": "code",
   "execution_count": 1,
   "metadata": {},
   "outputs": [
    {
     "name": "stdout",
     "output_type": "stream",
     "text": [
      "array('d', [1.0, 3.0]) array('d', [1.0, 3.0])\n"
     ]
    },
    {
     "name": "stderr",
     "output_type": "stream",
     "text": [
      "/home/patricio-linux/.local/lib/python3.10/site-packages/shapely/geometry/linestring.py:244: ShapelyDeprecationWarning: __len__ for multi-part geometries is deprecated and will be removed in Shapely 2.0. Check the length of the `geoms` property instead to get the  number of parts of a multi-part geometry.\n",
      "  m = len(ob)\n",
      "/home/patricio-linux/.local/lib/python3.10/site-packages/shapely/geometry/linestring.py:265: ShapelyDeprecationWarning: __getitem__ for multi-part geometries is deprecated and will be removed in Shapely 2.0. Use the `geoms` property to access the constituent parts of a multi-part geometry.\n",
      "  n = len(_coords(ob[0]))\n",
      "/home/patricio-linux/.local/lib/python3.10/site-packages/shapely/geometry/linestring.py:283: ShapelyDeprecationWarning: __getitem__ for multi-part geometries is deprecated and will be removed in Shapely 2.0. Use the `geoms` property to access the constituent parts of a multi-part geometry.\n",
      "  coords = _coords(ob[i])\n"
     ]
    },
    {
     "data": {
      "image/png": "[encoded data removed]",
      "text/plain": [
       "<Figure size 640x480 with 1 Axes>"
      ]
     },
     "metadata": {},
     "output_type": "display_data"
    }
   ],
   "source": [
    "import numpy as np\n",
    "import matplotlib.pyplot as plt\n",
    "from shapely.geometry import LineString\n",
    "\n",
    "# Definir las coordenadas de dos líneas que se intersectan\n",
    "X1 = [1, 2, 3, 4]\n",
    "Y1 = [1, 2, 3, 4]\n",
    "X2 = [1, 3, 3, 3]\n",
    "Y2 = [1, 2, 3, 0]\n",
    "\n",
    "# Crear las líneas utilizando Shapely\n",
    "first_line = LineString(np.column_stack((X1, Y1)))\n",
    "second_line = LineString(np.column_stack((X2, Y2)))\n",
    "\n",
    "# Encontrar la intersección\n",
    "intersection = first_line.intersection(second_line)\n",
    "\n",
    "if intersection.geom_type == 'MultiPoint':\n",
    "    plt.plot(*LineString(intersection).xy, 'ro')\n",
    "    print(*LineString(intersection).xy)\n"
   ]
  },
  {
   "cell_type": "code",
   "execution_count": 6,
   "metadata": {},
   "outputs": [
    {
     "ename": "NotImplementedError",
     "evalue": "multiple generators [r, Heaviside(-499199999999999*r/(-896000000000000*r**2 - 896000000000000*r - 224000000000000) + 1 + 344/(-560*r**2 - 560*r - 140)), Heaviside(Min(1, 499199999999999*r/(-896000000000000*r**2 - 896000000000000*r - 224000000000000) - 344/(-560*r**2 - 560*r - 140))), Max(0, Min(1, 499199999999999*r/(-896000000000000*r**2 - 896000000000000*r - 224000000000000) - 344/(-560*r**2 - 560*r - 140)))]\nNo algorithms are implemented to solve equation (r - 131072/9765625)*(-5*(499199999999999*r/1000000000000000 - 344/625)/(8*(-14*r/25 - 7/25)*(r + 1/2)**2) + 39/(125*(-14*r/25 - 7/25)*(r + 1/2)) + 125*(499199999999999*r/1000000000000000 - 344/625)/(112*(-r - 1/2)**2*(r + 1/2)))*Heaviside(1 - 5*(499199999999999*r/1000000000000000 - 344/625)/(8*(-14*r/25 - 7/25)*(r + 1/2)))*Heaviside(Min(1, 5*(499199999999999*r/1000000000000000 - 344/625)/(8*(-14*r/25 - 7/25)*(r + 1/2)))) + Max(0, Min(1, 5*(499199999999999*r/1000000000000000 - 344/625)/(8*(-14*r/25 - 7/25)*(r + 1/2))))",
     "output_type": "error",
     "traceback": [
      "\u001b[0;31m---------------------------------------------------------------------------\u001b[0m",
      "\u001b[0;31mNotImplementedError\u001b[0m                       Traceback (most recent call last)",
      "Cell \u001b[0;32mIn[6], line 57\u001b[0m\n\u001b[1;32m     54\u001b[0m u3 \u001b[38;5;241m=\u001b[39m Min(q2,d3)\u001b[38;5;241m*\u001b[39m(r \u001b[38;5;241m-\u001b[39m integrate((\u001b[38;5;241m1\u001b[39m\u001b[38;5;241m-\u001b[39mMin(\u001b[38;5;241m1\u001b[39m,p2\u001b[38;5;241m/\u001b[39mb2\u001b[38;5;241m*\u001b[39my2))\u001b[38;5;241m*\u001b[39m\u001b[38;5;241m9\u001b[39m\u001b[38;5;241m*\u001b[39my2\u001b[38;5;241m*\u001b[39m\u001b[38;5;241m*\u001b[39m\u001b[38;5;241m8\u001b[39m,(y2,\u001b[38;5;241m0\u001b[39m,\u001b[38;5;241m1\u001b[39m)))\n\u001b[1;32m     56\u001b[0m deru3_1 \u001b[38;5;241m=\u001b[39m Derivative(d3\u001b[38;5;241m*\u001b[39m(r \u001b[38;5;241m-\u001b[39m integrate((\u001b[38;5;241m1\u001b[39m\u001b[38;5;241m-\u001b[39mMin(\u001b[38;5;241m1\u001b[39m,p2\u001b[38;5;241m/\u001b[39mb2\u001b[38;5;241m*\u001b[39my2))\u001b[38;5;241m*\u001b[39m\u001b[38;5;241m9\u001b[39m\u001b[38;5;241m*\u001b[39my2\u001b[38;5;241m*\u001b[39m\u001b[38;5;241m*\u001b[39m\u001b[38;5;241m8\u001b[39m,(y2,\u001b[38;5;241m0\u001b[39m,\u001b[38;5;241m1\u001b[39m))),r)\n\u001b[0;32m---> 57\u001b[0m \u001b[43msolve\u001b[49m\u001b[43m(\u001b[49m\u001b[43mderu3_1\u001b[49m\u001b[38;5;241;43m.\u001b[39;49m\u001b[43msubs\u001b[49m\u001b[43m(\u001b[49m\u001b[43m[\u001b[49m\u001b[43m(\u001b[49m\u001b[43mb2\u001b[49m\u001b[43m,\u001b[49m\u001b[43mb2_v\u001b[49m\u001b[43m)\u001b[49m\u001b[43m,\u001b[49m\u001b[43m(\u001b[49m\u001b[43mp2\u001b[49m\u001b[43m,\u001b[49m\u001b[38;5;241;43m0.5\u001b[39;49m\u001b[43m)\u001b[49m\u001b[43m]\u001b[49m\u001b[43m)\u001b[49m\u001b[38;5;241;43m.\u001b[39;49m\u001b[43mdoit\u001b[49m\u001b[43m(\u001b[49m\u001b[43m)\u001b[49m\u001b[43m,\u001b[49m\u001b[43mr\u001b[49m\u001b[43m)\u001b[49m\n",
      "File \u001b[0;32m~/.local/lib/python3.10/site-packages/sympy/solvers/solvers.py:1145\u001b[0m, in \u001b[0;36msolve\u001b[0;34m(f, *symbols, **flags)\u001b[0m\n\u001b[1;32m   1143\u001b[0m         solution \u001b[38;5;241m=\u001b[39m _solve_undetermined(f[\u001b[38;5;241m0\u001b[39m], symbols, flags)\n\u001b[1;32m   1144\u001b[0m     \u001b[38;5;28;01mif\u001b[39;00m \u001b[38;5;129;01mnot\u001b[39;00m solution:\n\u001b[0;32m-> 1145\u001b[0m         solution \u001b[38;5;241m=\u001b[39m \u001b[43m_solve\u001b[49m\u001b[43m(\u001b[49m\u001b[43mf\u001b[49m\u001b[43m[\u001b[49m\u001b[38;5;241;43m0\u001b[39;49m\u001b[43m]\u001b[49m\u001b[43m,\u001b[49m\u001b[43m \u001b[49m\u001b[38;5;241;43m*\u001b[39;49m\u001b[43msymbols\u001b[49m\u001b[43m,\u001b[49m\u001b[43m \u001b[49m\u001b[38;5;241;43m*\u001b[39;49m\u001b[38;5;241;43m*\u001b[39;49m\u001b[43mflags\u001b[49m\u001b[43m)\u001b[49m\n\u001b[1;32m   1146\u001b[0m \u001b[38;5;28;01melse\u001b[39;00m:\n\u001b[1;32m   1147\u001b[0m     linear, solution \u001b[38;5;241m=\u001b[39m _solve_system(f, symbols, \u001b[38;5;241m*\u001b[39m\u001b[38;5;241m*\u001b[39mflags)\n",
      "File \u001b[0;32m~/.local/lib/python3.10/site-packages/sympy/solvers/solvers.py:1396\u001b[0m, in \u001b[0;36m_solve\u001b[0;34m(f, *symbols, **flags)\u001b[0m\n\u001b[1;32m   1393\u001b[0m \u001b[38;5;28;01mif\u001b[39;00m expr\u001b[38;5;241m.\u001b[39mis_zero:\n\u001b[1;32m   1394\u001b[0m     \u001b[38;5;28;01mraise\u001b[39;00m \u001b[38;5;167;01mNotImplementedError\u001b[39;00m(\n\u001b[1;32m   1395\u001b[0m         \u001b[38;5;124m'\u001b[39m\u001b[38;5;124msolve cannot represent interval solutions\u001b[39m\u001b[38;5;124m'\u001b[39m)\n\u001b[0;32m-> 1396\u001b[0m candidates \u001b[38;5;241m=\u001b[39m \u001b[43m_vsolve\u001b[49m\u001b[43m(\u001b[49m\u001b[43mexpr\u001b[49m\u001b[43m,\u001b[49m\u001b[43m \u001b[49m\u001b[43msymbol\u001b[49m\u001b[43m,\u001b[49m\u001b[43m \u001b[49m\u001b[38;5;241;43m*\u001b[39;49m\u001b[38;5;241;43m*\u001b[39;49m\u001b[43mflags\u001b[49m\u001b[43m)\u001b[49m\n\u001b[1;32m   1397\u001b[0m \u001b[38;5;66;03m# the explicit condition for this expr is the current cond\u001b[39;00m\n\u001b[1;32m   1398\u001b[0m \u001b[38;5;66;03m# and none of the previous conditions\u001b[39;00m\n\u001b[1;32m   1399\u001b[0m args \u001b[38;5;241m=\u001b[39m [\u001b[38;5;241m~\u001b[39mc \u001b[38;5;28;01mfor\u001b[39;00m _, c \u001b[38;5;129;01min\u001b[39;00m f\u001b[38;5;241m.\u001b[39margs[:i]] \u001b[38;5;241m+\u001b[39m [cond]\n",
      "File \u001b[0;32m~/.local/lib/python3.10/site-packages/sympy/solvers/solvers.py:2606\u001b[0m, in \u001b[0;36m_vsolve\u001b[0;34m(e, s, **flags)\u001b[0m\n\u001b[1;32m   2604\u001b[0m \u001b[38;5;28;01mdef\u001b[39;00m \u001b[38;5;21m_vsolve\u001b[39m(e, s, \u001b[38;5;241m*\u001b[39m\u001b[38;5;241m*\u001b[39mflags):\n\u001b[1;32m   2605\u001b[0m \u001b[38;5;250m    \u001b[39m\u001b[38;5;124;03m\"\"\"return list of scalar values for the solution of e for symbol s\"\"\"\u001b[39;00m\n\u001b[0;32m-> 2606\u001b[0m     \u001b[38;5;28;01mreturn\u001b[39;00m [i[s] \u001b[38;5;28;01mfor\u001b[39;00m i \u001b[38;5;129;01min\u001b[39;00m \u001b[43m_solve\u001b[49m\u001b[43m(\u001b[49m\u001b[43me\u001b[49m\u001b[43m,\u001b[49m\u001b[43m \u001b[49m\u001b[43ms\u001b[49m\u001b[43m,\u001b[49m\u001b[43m \u001b[49m\u001b[38;5;241;43m*\u001b[39;49m\u001b[38;5;241;43m*\u001b[39;49m\u001b[43mflags\u001b[49m\u001b[43m)\u001b[49m]\n",
      "File \u001b[0;32m~/.local/lib/python3.10/site-packages/sympy/solvers/solvers.py:1693\u001b[0m, in \u001b[0;36m_solve\u001b[0;34m(f, *symbols, **flags)\u001b[0m\n\u001b[1;32m   1690\u001b[0m \u001b[38;5;66;03m# ----------- end of fallback ----------------------------\u001b[39;00m\n\u001b[1;32m   1692\u001b[0m \u001b[38;5;28;01mif\u001b[39;00m result \u001b[38;5;129;01mis\u001b[39;00m \u001b[38;5;28;01mFalse\u001b[39;00m:\n\u001b[0;32m-> 1693\u001b[0m     \u001b[38;5;28;01mraise\u001b[39;00m \u001b[38;5;167;01mNotImplementedError\u001b[39;00m(\u001b[38;5;124m'\u001b[39m\u001b[38;5;130;01m\\n\u001b[39;00m\u001b[38;5;124m'\u001b[39m\u001b[38;5;241m.\u001b[39mjoin([msg, not_impl_msg \u001b[38;5;241m%\u001b[39m f]))\n\u001b[1;32m   1695\u001b[0m result \u001b[38;5;241m=\u001b[39m _remove_duplicate_solutions(result)\n\u001b[1;32m   1697\u001b[0m \u001b[38;5;28;01mif\u001b[39;00m flags\u001b[38;5;241m.\u001b[39mget(\u001b[38;5;124m'\u001b[39m\u001b[38;5;124msimplify\u001b[39m\u001b[38;5;124m'\u001b[39m, \u001b[38;5;28;01mTrue\u001b[39;00m):\n",
      "\u001b[0;31mNotImplementedError\u001b[0m: multiple generators [r, Heaviside(-499199999999999*r/(-896000000000000*r**2 - 896000000000000*r - 224000000000000) + 1 + 344/(-560*r**2 - 560*r - 140)), Heaviside(Min(1, 499199999999999*r/(-896000000000000*r**2 - 896000000000000*r - 224000000000000) - 344/(-560*r**2 - 560*r - 140))), Max(0, Min(1, 499199999999999*r/(-896000000000000*r**2 - 896000000000000*r - 224000000000000) - 344/(-560*r**2 - 560*r - 140)))]\nNo algorithms are implemented to solve equation (r - 131072/9765625)*(-5*(499199999999999*r/1000000000000000 - 344/625)/(8*(-14*r/25 - 7/25)*(r + 1/2)**2) + 39/(125*(-14*r/25 - 7/25)*(r + 1/2)) + 125*(499199999999999*r/1000000000000000 - 344/625)/(112*(-r - 1/2)**2*(r + 1/2)))*Heaviside(1 - 5*(499199999999999*r/1000000000000000 - 344/625)/(8*(-14*r/25 - 7/25)*(r + 1/2)))*Heaviside(Min(1, 5*(499199999999999*r/1000000000000000 - 344/625)/(8*(-14*r/25 - 7/25)*(r + 1/2)))) + Max(0, Min(1, 5*(499199999999999*r/1000000000000000 - 344/625)/(8*(-14*r/25 - 7/25)*(r + 1/2))))"
     ]
    }
   ],
   "source": [
    "import sympy\n",
    "from sympy import Derivative, simplify, Piecewise, Min, Max, integrate, pycode, parse_expr, solve\n",
    "import scipy\n",
    "import numpy as np\n",
    "import matplotlib.pyplot as plt\n",
    "import json\n",
    "import random\n",
    "import multiprocessing as mp\n",
    "from shapely.geometry import LineString\n",
    "\n",
    "\n",
    "\n",
    "# Eequilibrio buscado\n",
    "b2_v = 0.4\n",
    "\n",
    "y2, p2, q2, b2, r = sympy.symbols('y2 p2 q2 b2 r', real=True, positive=True)\n",
    "t2 = sympy.symbols('t2', positive=True)\n",
    "\n",
    "g2 = 3*(1-t2)*(y2-1)**2 + 3*t2*y2**2\n",
    "\n",
    "## p*q > b barra \n",
    "vf2_1 = integrate(Min(y2/q2,1)*g2,(y2,0,1))\n",
    "\n",
    "## p*q < b barra y p >= b barra\n",
    "vf2_2 = integrate(Min(p2*y2/b2,1)*g2,(y2,0,1))\n",
    "\n",
    "## p*q < b barra y p < b barra\n",
    "vf2_3 = integrate(p2*y2/b2*g2,(y2,0,1))\n",
    "\n",
    "\n",
    "\n",
    "# theta gorro\n",
    "## p*q > b barra \n",
    "tgorro2_1 = solve(vf2_1 - p2/(p2+r),t2)[0]\n",
    "tgorro2_1n = solve(vf2_1 - p2,t2)[0]\n",
    "\n",
    "## p*q < b barra y p >= b barra\n",
    "tgorro2_2 = solve(vf2_2 - p2/(p2+r),t2)[0]\n",
    "tgorro2_2n = solve(vf2_2 - p2,t2)[0]\n",
    "\n",
    "## p*q < b barra y p < b barra\n",
    "tgorro2_3 = solve(vf2_3 - p2/(p2+r),t2)[0]\n",
    "tgorro2_3n = solve(vf2_3 - p2,t2)[0]\n",
    "\n",
    "\n",
    "d2 = Piecewise((1 - r/(p2 +r)*tgorro2_2, (p2 + r <= 1)), (1-tgorro2_2n,True))\n",
    "d2 = Max(0,Min(1,d2))\n",
    "d3 = Piecewise((1/(p2+r)*tgorro2_2, (p2 + r <= 1)), (0, True)) # Ya está dividido en r\n",
    "d3 = Max(0,Min(1,d3))\n",
    "# print(d2)\n",
    "# sympy.plot(d2.subs([(r,0.2),(b2,b2_v),(q2,0.4)]),(p2,0,1))\n",
    "\n",
    "u2 = integrate(Max(0,Min(1,p2*q2/b2)*y2- q2)*g2.subs(t2,1),(y2,0,1))\n",
    "u3 = Min(q2,d3)*(r - integrate((1-Min(1,p2/b2*y2))*9*y2**8,(y2,0,1)))\n",
    "\n",
    "deru3_1 = Derivative(d3*(r - integrate((1-Min(1,p2/b2*y2))*9*y2**8,(y2,0,1))),r)\n",
    "solve(deru3_1.subs([(b2,b2_v),(p2,0.5)]).doit(),r)"
   ]
  }
 ],
 "metadata": {
  "kernelspec": {
   "display_name": "Python 3",
   "language": "python",
   "name": "python3"
  },
  "language_info": {
   "codemirror_mode": {
    "name": "ipython",
    "version": 3
   },
   "file_extension": ".py",
   "mimetype": "text/x-python",
   "name": "python",
   "nbconvert_exporter": "python",
   "pygments_lexer": "ipython3",
   "version": "3.10.12"
  }
 },
 "nbformat": 4,
 "nbformat_minor": 2
}
